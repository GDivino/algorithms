{
 "cells": [
  {
   "cell_type": "code",
   "execution_count": 4,
   "metadata": {},
   "outputs": [
    {
     "name": "stdout",
     "output_type": "stream",
     "text": [
      "The length of the LCS is 4\n"
     ]
    }
   ],
   "source": [
    "def lcs(X, Y, m, n):\n",
    "    if m == 0 or n == 0: \n",
    "        return 0\n",
    "\n",
    "    if X[m - 1] == Y[n - 1]:\n",
    "        return lcs(X, Y, m-1, n-1) + 1\n",
    "\n",
    "    return max(lcs(X, Y, m-1, n), lcs(X, Y, m, n-1))\n",
    "\n",
    "if __name__ == '__main__':\n",
    "    X = 'ABCBDAB'\n",
    "    Y = 'BDCABA'\n",
    "    print('The length of the LCS is {}'.format(lcs(X, Y, len(X), len(Y))))"
   ]
  }
 ],
 "metadata": {
  "interpreter": {
   "hash": "916dbcbb3f70747c44a77c7bcd40155683ae19c65e1c03b4aa3499c5328201f1"
  },
  "kernelspec": {
   "display_name": "Python 3.8.10 64-bit",
   "language": "python",
   "name": "python3"
  },
  "language_info": {
   "codemirror_mode": {
    "name": "ipython",
    "version": 3
   },
   "file_extension": ".py",
   "mimetype": "text/x-python",
   "name": "python",
   "nbconvert_exporter": "python",
   "pygments_lexer": "ipython3",
   "version": "3.8.10"
  },
  "orig_nbformat": 4
 },
 "nbformat": 4,
 "nbformat_minor": 2
}
