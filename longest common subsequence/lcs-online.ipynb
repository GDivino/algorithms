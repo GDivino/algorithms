{
 "cells": [
  {
   "cell_type": "code",
   "execution_count": 1,
   "metadata": {},
   "outputs": [
    {
     "name": "stdout",
     "output_type": "stream",
     "text": [
      "The length of the LCS is 4\n"
     ]
    }
   ],
   "source": [
    "# Function to find the length of the longest common subsequence of\n",
    "# sequences `X[0…m-1]` and `Y[0…n-1]`\n",
    "def LCSLength(X, Y, m, n):\n",
    " \n",
    "    # return if the end of either sequence is reached\n",
    "    if m == 0 or n == 0:\n",
    "        return 0\n",
    " \n",
    "    # if the last character of `X` and `Y` matches\n",
    "    if X[m - 1] == Y[n - 1]:\n",
    "        return LCSLength(X, Y, m - 1, n - 1) + 1\n",
    " \n",
    "    # otherwise, if the last character of `X` and `Y` don't match\n",
    "    return max(LCSLength(X, Y, m, n - 1), LCSLength(X, Y, m - 1, n))\n",
    " \n",
    " \n",
    "if __name__ == '__main__':\n",
    " \n",
    "    X = 'ABCBDAB'\n",
    "    Y = 'BDCABA'\n",
    " \n",
    "    print('The length of the LCS is', LCSLength(X, Y, len(X), len(Y)))"
   ]
  }
 ],
 "metadata": {
  "interpreter": {
   "hash": "916dbcbb3f70747c44a77c7bcd40155683ae19c65e1c03b4aa3499c5328201f1"
  },
  "kernelspec": {
   "display_name": "Python 3.8.10 64-bit",
   "language": "python",
   "name": "python3"
  },
  "language_info": {
   "codemirror_mode": {
    "name": "ipython",
    "version": 3
   },
   "file_extension": ".py",
   "mimetype": "text/x-python",
   "name": "python",
   "nbconvert_exporter": "python",
   "pygments_lexer": "ipython3",
   "version": "3.8.10"
  },
  "orig_nbformat": 4
 },
 "nbformat": 4,
 "nbformat_minor": 2
}
