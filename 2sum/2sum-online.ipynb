{
 "cells": [
  {
   "cell_type": "markdown",
   "metadata": {},
   "source": [
    "Sorted Solution"
   ]
  },
  {
   "cell_type": "code",
   "execution_count": 1,
   "metadata": {},
   "outputs": [
    {
     "name": "stdout",
     "output_type": "stream",
     "text": [
      "Pair found (2, 8)\n"
     ]
    }
   ],
   "source": [
    "# Function to find a pair in an array with a given sum using sorting\n",
    "def findPair(nums, target):\n",
    " \n",
    "    # sort the list in ascending order\n",
    "    nums.sort()\n",
    " \n",
    "    # maintain two indices pointing to endpoints of the list\n",
    "    (low, high) = (0, len(nums) - 1)\n",
    " \n",
    "    # reduce the search space `nums[low…high]` at each iteration of the loop\n",
    " \n",
    "    # loop till the search space is exhausted\n",
    "    while low < high:\n",
    " \n",
    "        if nums[low] + nums[high] == target:        # target found\n",
    "            print('Pair found', (nums[low], nums[high]))\n",
    "            return\n",
    " \n",
    "        # increment `low` index if the total is less than the desired sum;\n",
    "        # decrement `high` index if the total is more than the desired sum\n",
    "        if nums[low] + nums[high] < target:\n",
    "            low = low + 1\n",
    "        else:\n",
    "            high = high - 1\n",
    " \n",
    "    # No pair with the given sum exists\n",
    "    print('Pair not found')\n",
    " \n",
    " \n",
    "if __name__ == '__main__':\n",
    " \n",
    "    nums = [8, 7, 2, 5, 3, 1]\n",
    "    target = 10\n",
    " \n",
    "    findPair(nums, target)"
   ]
  },
  {
   "cell_type": "markdown",
   "metadata": {},
   "source": [
    "Hashing Solution"
   ]
  },
  {
   "cell_type": "code",
   "execution_count": 2,
   "metadata": {},
   "outputs": [
    {
     "name": "stdout",
     "output_type": "stream",
     "text": [
      "Pair found (8, 2)\n"
     ]
    }
   ],
   "source": [
    "# Function to find a pair in an array with a given sum using hashing\n",
    "def findPair(nums, target):\n",
    " \n",
    "    # create an empty dictionary\n",
    "    d = {}\n",
    " \n",
    "    # do for each element\n",
    "    for i, e in enumerate(nums):\n",
    " \n",
    "        # check if pair (e, target - e) exists\n",
    " \n",
    "        # if the difference is seen before, print the pair\n",
    "        if target - e in d:\n",
    "            print('Pair found', (nums[d.get(target - e)], nums[i]))\n",
    "            return\n",
    " \n",
    "        # store index of the current element in the dictionary\n",
    "        d[e] = i\n",
    " \n",
    "    # No pair with the given sum exists in the list\n",
    "    print('Pair not found')\n",
    " \n",
    " \n",
    "if __name__ == '__main__':\n",
    " \n",
    "    nums = [8, 7, 2, 5, 3, 1]\n",
    "    target = 10\n",
    " \n",
    "    findPair(nums, target)"
   ]
  }
 ],
 "metadata": {
  "interpreter": {
   "hash": "916dbcbb3f70747c44a77c7bcd40155683ae19c65e1c03b4aa3499c5328201f1"
  },
  "kernelspec": {
   "display_name": "Python 3.8.10 64-bit",
   "language": "python",
   "name": "python3"
  },
  "language_info": {
   "codemirror_mode": {
    "name": "ipython",
    "version": 3
   },
   "file_extension": ".py",
   "mimetype": "text/x-python",
   "name": "python",
   "nbconvert_exporter": "python",
   "pygments_lexer": "ipython3",
   "version": "3.8.10"
  },
  "orig_nbformat": 4
 },
 "nbformat": 4,
 "nbformat_minor": 2
}
