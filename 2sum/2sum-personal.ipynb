{
 "cells": [
  {
   "cell_type": "code",
   "execution_count": 36,
   "metadata": {},
   "outputs": [
    {
     "name": "stdout",
     "output_type": "stream",
     "text": [
      "Pair found (11, 9)\n",
      "Pair found (19, 1)\n",
      "Pair found (20, 0)\n",
      "\n",
      "Pair found (7, 3)\n",
      "Pair found (8, 2)\n",
      "\n",
      "No available pair\n",
      "\n"
     ]
    }
   ],
   "source": [
    "def twoSum(inputs, n):\n",
    "    idx1 = 2\n",
    "    idx2 = 1\n",
    "    pairs = []\n",
    "\n",
    "    inputs.sort()\n",
    "\n",
    "    for i in inputs[::-1]:\n",
    "        if i > n:\n",
    "            inputs.remove(i)\n",
    "        else:\n",
    "            break\n",
    "    \n",
    "    while idx1 < len(inputs):\n",
    "        input1 = inputs[idx1]\n",
    "        input2 = inputs[idx2]\n",
    "\n",
    "        if inputs[0] + inputs[1] > n or inputs[-1] + inputs[-2] < n:\n",
    "            print('No available pair')\n",
    "            break\n",
    "        \n",
    "        if input1 + input2 > n:\n",
    "            for j in inputs[0:input2]:\n",
    "                if checker(input1, j, n):\n",
    "                    pairs.append('Pair found ({}, {})'.format(input1, j))\n",
    "                    break\n",
    "        \n",
    "        elif checker(input1, input2, n):\n",
    "            pairs.append('Pair found ({}, {})'.format(input1, input2))\n",
    "        \n",
    "        idx2 = idx1\n",
    "        idx1 += 1\n",
    "    \n",
    "    if len(pairs) == 0:\n",
    "        print('No available pair')\n",
    "    else:\n",
    "        [print(k) for k in pairs]\n",
    "\n",
    "\n",
    "def checker(input1, input2, n):\n",
    "    if input1 + input2 == n:\n",
    "        return True\n",
    "\n",
    "if __name__ == '__main__':\n",
    "    twoSum([0, 1, 2, 5, 7, 9, 11, 17, 19, 20], 20)\n",
    "    print()\n",
    "    twoSum([8, 7, 2, 5, 3, 1], 10)\n",
    "    print()\n",
    "    twoSum([5, 2, 6, 8, 1, 9], 12)\n",
    "    print()"
   ]
  }
 ],
 "metadata": {
  "interpreter": {
   "hash": "916dbcbb3f70747c44a77c7bcd40155683ae19c65e1c03b4aa3499c5328201f1"
  },
  "kernelspec": {
   "display_name": "Python 3.8.10 64-bit",
   "language": "python",
   "name": "python3"
  },
  "language_info": {
   "codemirror_mode": {
    "name": "ipython",
    "version": 3
   },
   "file_extension": ".py",
   "mimetype": "text/x-python",
   "name": "python",
   "nbconvert_exporter": "python",
   "pygments_lexer": "ipython3",
   "version": "3.8.10"
  },
  "orig_nbformat": 4
 },
 "nbformat": 4,
 "nbformat_minor": 2
}
